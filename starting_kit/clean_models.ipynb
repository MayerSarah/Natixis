{
 "cells": [
  {
   "cell_type": "code",
   "execution_count": 2,
   "metadata": {},
   "outputs": [],
   "source": [
    "# from spacy_langdetect import LanguageDetector\n",
    "# from spacy.language import Language\n",
    "# import spacy\n",
    "import pandas as pd\n",
    "from frequentist_treatment_nlp import *\n",
    "import nltk\n",
    "import numpy as np\n",
    "import time\n",
    "import matplotlib.pyplot as plt\n",
    "import seaborn as sns\n",
    "import os\n",
    "import sys\n",
    "from sklearn.feature_extraction.text import TfidfVectorizer\n",
    "from sklearn.decomposition import PCA\n",
    "from sklearn.model_selection import train_test_split\n",
    "from sklearn.preprocessing import StandardScaler, MinMaxScaler\n",
    "from sklearn.metrics import accuracy_score, mean_squared_error\n",
    "from nltk.stem.snowball import SnowballStemmer\n",
    "import regex\n",
    "import re\n",
    "from tensorflow.keras.models import Sequential, Model\n",
    "from tensorflow.keras.layers import Dense,GRU,LSTM,Embedding, concatenate\n",
    "from tensorflow.keras.optimizers import Adam\n",
    "from tensorflow.keras.layers import SpatialDropout1D,Dropout,Bidirectional,Conv1D,GlobalMaxPooling1D, MaxPooling1D, LeakyReLU, Flatten, InputLayer, Input, BatchNormalization\n",
    "from tensorflow.keras.callbacks import ModelCheckpoint, TensorBoard, Callback, EarlyStopping, History\n",
    "import tensorflow as tf\n",
    "from sklearn.manifold import TSNE"
   ]
  },
  {
   "cell_type": "code",
   "execution_count": 3,
   "metadata": {},
   "outputs": [
    {
     "name": "stdout",
     "output_type": "stream",
     "text": [
      "Num GPUs Available:  1\n"
     ]
    }
   ],
   "source": [
    "tf.config.list_physical_devices()\n",
    "print(\"Num GPUs Available: \", len(tf.config.list_physical_devices('GPU')))\n",
    "physical_devices = tf.config.list_physical_devices(\"GPU\")\n",
    "tf.config.experimental.set_memory_growth(physical_devices[0], True)"
   ]
  },
  {
   "cell_type": "code",
   "execution_count": null,
   "metadata": {},
   "outputs": [],
   "source": []
  },
  {
   "cell_type": "code",
   "execution_count": 4,
   "metadata": {},
   "outputs": [],
   "source": [
    "path = 'C:/Users/32mor/OneDrive/Documents/Polytechnique/NLP & Natixis/starting_kit/data'"
   ]
  },
  {
   "cell_type": "code",
   "execution_count": 6,
   "metadata": {},
   "outputs": [],
   "source": [
    "os.chdir(path)\n",
    "X, y_cat, y_reg = hx.data_expander(all_data=True)\n",
    "y = pd.concat([y_cat,y_reg],axis=1)"
   ]
  },
  {
   "cell_type": "code",
   "execution_count": 67,
   "metadata": {},
   "outputs": [
    {
     "name": "stdout",
     "output_type": "stream",
     "text": [
      "saved\n"
     ]
    }
   ],
   "source": [
    "unsaved  = False\n",
    "if unsaved:\n",
    "     print('unsaved')\n",
    "     X_train, X_test, y_train, y_test = train_test_split(X, y, test_size=0.2, random_state=42)\n",
    "     X_train, X_val, y_train, y_val = train_test_split(X_train, y_train, test_size=0.1, random_state=42)\n",
    "     pipe_ecb = Full_pipeline_nlp('ecb', 0.3, 300,translate=True)\n",
    "     pipe_fed = Full_pipeline_nlp('fed',0.3, 300, translate=True)\n",
    "     pipe_num = numerical_pipeline()\n",
    "     test_pipe  = full_pipeline(pipe_fed, pipe_ecb, pipe_num)\n",
    "     X_fed_train, X_ecb_train, X_num_train = test_pipe.fit_transform(X_train)\n",
    "     X_fed_val, X_ecb_val, X_num_val = test_pipe.transform(X_val)\n",
    "     X_fed_test, X_ecb_test, X_num_test = test_pipe.transform(X_test)\n",
    "\n",
    "\n",
    "     y_train_reg = y_train.target_reg\n",
    "     y_train_cat = y_train.target_classif\n",
    "     y_test_reg = y_test.target_reg\n",
    "     y_test_cat = y_test.target_classif\n",
    "     y_val_reg = y_val.target_reg\n",
    "     y_val_cat = y_val.target_classif\n",
    "     os.chdir(path)\n",
    "     saves = [X_fed_train, X_fed_test, X_fed_val, X_ecb_train, X_ecb_test, \n",
    "                    X_ecb_val, X_num_train,X_num_test, X_num_val, y_test_cat,\n",
    "                    y_test_reg, y_train_reg, y_train_cat, y_val_cat, y_val_reg]\n",
    "     for element in saves:\n",
    "          vnames = [name for name in globals() if globals()[name] is element][0]\n",
    "          np.save(f'{vnames}.npy',element)\n",
    "\n",
    "else:\n",
    "     print('saved')\n",
    "     for element in os.listdir():\n",
    "          if 'npy' in element :\n",
    "               if element not in ['element.npy','__.npy']:\n",
    "                    str = element\n",
    "                    globals()[str.split('.')[0]] = np.load(element)\n",
    "\n",
    "day_max = 20\n",
    "speeches_train = len(X_train)\n",
    "speeches_val = len(X_val)\n",
    "speeches_test = len(X_test)\n",
    "components = 300\n",
    "X_fed_lstm_train = X_fed_train.reshape((speeches_train, day_max, components))\n",
    "X_ecb_lstm_train = X_ecb_train.reshape((speeches_train, day_max, components))\n",
    "X_fed_lstm_test = X_fed_test.reshape((speeches_test, day_max, components))\n",
    "X_ecb_lstm_test = X_ecb_test.reshape((speeches_test, day_max, components))\n",
    "X_fed_lstm_val = X_fed_val.reshape((speeches_val, day_max, components))\n",
    "X_ecb_lstm_val = X_ecb_val.reshape((speeches_val, day_max, components))\n",
    "lstm_shape = (day_max, components)\n",
    "shape_num = day_max"
   ]
  },
  {
   "cell_type": "code",
   "execution_count": 68,
   "metadata": {},
   "outputs": [],
   "source": [
    "def multi_input_output_lstm_full(shape_nlp, shape_num):\n",
    "    input_nlp_fed = Input(shape=(shape_nlp[0], shape_nlp[1]))\n",
    "    input_nlp_bce = Input(shape=(shape_nlp[0], shape_nlp[1]))\n",
    "    input_num = Input(shape=(shape_num, 1))\n",
    "\n",
    "\n",
    "    w = LSTM(100, return_sequences=True)(input_nlp_fed)\n",
    "    w = Dropout(0.3)(w)\n",
    "    #w = BatchNormalization()(w)\n",
    "    w = LSTM(40, return_sequences=False)(w)\n",
    "    w = Dropout(0.3)(w)\n",
    "    w = Model(inputs=input_nlp_fed, outputs=w)\n",
    "\n",
    "\n",
    "    x = LSTM(100, return_sequences=True)(input_nlp_bce)\n",
    "    x = Dropout(0.3)(x)\n",
    "    #x = BatchNormalization()(x)\n",
    "    x = LSTM(40, return_sequences=False)(x)\n",
    "    #x = Dropout(0.3)(x)\n",
    "    x = Model(inputs=input_nlp_bce, outputs=x)\n",
    "\n",
    "    # the second branch opreates on the second input\n",
    "    y = LSTM(100, return_sequences=False)(input_num)\n",
    "    y = Dropout(0.3)(y)\n",
    "    #y = BatchNormalization()(y)\n",
    "    # y = LSTM(40, return_sequences=False)(y)\n",
    "    # y = Dropout(0.3)(y)\n",
    "    y = Model(inputs=input_num, outputs=y)\n",
    "    # combine the output of the two branches\n",
    "    combined = concatenate([w.output, x.output, y.output])\n",
    "\n",
    "    z = Dense(64, activation='relu')(combined)\n",
    "    z = Dropout(0.3)(z)\n",
    "    \n",
    "\n",
    "    # z = Dense(64, activation='relu')(z)\n",
    "    # z = Dropout(0.3)(z)\n",
    "    out_reg = Dense(1, activation='linear')(z)\n",
    "    \n",
    "    # dense_class = Dense(40, activation = 'relu')(dropout_2)\n",
    "    classi = BatchNormalization()(z)\n",
    "    # classi = Dense(64)(classi)\n",
    "    # classi = LeakyReLU(0.3)(classi)\n",
    "    # classi = Dropout(0.5)(classi)\n",
    "    out_class = Dense(1, activation = 'sigmoid')(classi)\n",
    "    model = Model(inputs=[w.input, x.input, y.input], outputs=[out_reg, out_class])\n",
    "\n",
    "    return model"
   ]
  },
  {
   "cell_type": "code",
   "execution_count": 69,
   "metadata": {},
   "outputs": [],
   "source": [
    "import datetime"
   ]
  },
  {
   "cell_type": "code",
   "execution_count": 70,
   "metadata": {},
   "outputs": [],
   "source": [
    "model=multi_input_output_lstm_full(lstm_shape, shape_num)\n",
    "early_stop = EarlyStopping(monitor='val_loss', patience=3)\n",
    "log_dir = \"logs/fit/\" + datetime.datetime.now().strftime(\"%Y%m%d-%H%M%S\")\n",
    "tensorboard_callback = TensorBoard(log_dir=log_dir, histogram_freq=1)\n",
    "optimizer = Adam(learning_rate=0.0001)\n",
    "model.compile(loss=['mse',tf.keras.losses.binary_crossentropy], optimizer=optimizer)"
   ]
  },
  {
   "cell_type": "code",
   "execution_count": 71,
   "metadata": {},
   "outputs": [
    {
     "name": "stdout",
     "output_type": "stream",
     "text": [
      "Epoch 1/50\n",
      "6/6 - 22s - loss: 1.8984 - dense_12_loss: 1.0159 - dense_13_loss: 0.8824 - val_loss: 1.5730 - val_dense_12_loss: 0.8776 - val_dense_13_loss: 0.6954\n",
      "Epoch 2/50\n",
      "6/6 - 10s - loss: 1.7719 - dense_12_loss: 0.9322 - dense_13_loss: 0.8397 - val_loss: 1.5036 - val_dense_12_loss: 0.8080 - val_dense_13_loss: 0.6955\n",
      "Epoch 3/50\n",
      "6/6 - 3s - loss: 1.6442 - dense_12_loss: 0.8485 - dense_13_loss: 0.7956 - val_loss: 1.4362 - val_dense_12_loss: 0.7404 - val_dense_13_loss: 0.6959\n",
      "Epoch 4/50\n",
      "6/6 - 3s - loss: 1.6043 - dense_12_loss: 0.8150 - dense_13_loss: 0.7893 - val_loss: 1.3718 - val_dense_12_loss: 0.6756 - val_dense_13_loss: 0.6962\n",
      "Epoch 5/50\n",
      "6/6 - 3s - loss: 1.4629 - dense_12_loss: 0.7417 - dense_13_loss: 0.7212 - val_loss: 1.3107 - val_dense_12_loss: 0.6145 - val_dense_13_loss: 0.6962\n",
      "Epoch 6/50\n",
      "6/6 - 3s - loss: 1.3939 - dense_12_loss: 0.6346 - dense_13_loss: 0.7593 - val_loss: 1.2538 - val_dense_12_loss: 0.5575 - val_dense_13_loss: 0.6963\n",
      "Epoch 7/50\n",
      "6/6 - 3s - loss: 1.2877 - dense_12_loss: 0.5952 - dense_13_loss: 0.6924 - val_loss: 1.1986 - val_dense_12_loss: 0.5020 - val_dense_13_loss: 0.6966\n",
      "Epoch 8/50\n",
      "6/6 - 3s - loss: 1.2494 - dense_12_loss: 0.5594 - dense_13_loss: 0.6901 - val_loss: 1.1473 - val_dense_12_loss: 0.4502 - val_dense_13_loss: 0.6971\n",
      "Epoch 9/50\n",
      "6/6 - 3s - loss: 1.1387 - dense_12_loss: 0.4937 - dense_13_loss: 0.6450 - val_loss: 1.0987 - val_dense_12_loss: 0.4013 - val_dense_13_loss: 0.6974\n",
      "Epoch 10/50\n",
      "6/6 - 3s - loss: 1.0491 - dense_12_loss: 0.4326 - dense_13_loss: 0.6166 - val_loss: 1.0539 - val_dense_12_loss: 0.3560 - val_dense_13_loss: 0.6979\n",
      "Epoch 11/50\n",
      "6/6 - 3s - loss: 1.0500 - dense_12_loss: 0.4182 - dense_13_loss: 0.6318 - val_loss: 1.0113 - val_dense_12_loss: 0.3128 - val_dense_13_loss: 0.6984\n",
      "Epoch 12/50\n",
      "6/6 - 3s - loss: 0.9748 - dense_12_loss: 0.3807 - dense_13_loss: 0.5941 - val_loss: 0.9747 - val_dense_12_loss: 0.2756 - val_dense_13_loss: 0.6991\n",
      "Epoch 13/50\n",
      "6/6 - 3s - loss: 0.9384 - dense_12_loss: 0.3360 - dense_13_loss: 0.6025 - val_loss: 0.9455 - val_dense_12_loss: 0.2457 - val_dense_13_loss: 0.6997\n",
      "Epoch 14/50\n",
      "6/6 - 3s - loss: 0.9090 - dense_12_loss: 0.3268 - dense_13_loss: 0.5822 - val_loss: 0.9201 - val_dense_12_loss: 0.2199 - val_dense_13_loss: 0.7003\n",
      "Epoch 15/50\n",
      "6/6 - 3s - loss: 0.8723 - dense_12_loss: 0.3167 - dense_13_loss: 0.5556 - val_loss: 0.9014 - val_dense_12_loss: 0.2004 - val_dense_13_loss: 0.7010\n",
      "Epoch 16/50\n",
      "6/6 - 3s - loss: 0.8465 - dense_12_loss: 0.2736 - dense_13_loss: 0.5729 - val_loss: 0.8888 - val_dense_12_loss: 0.1869 - val_dense_13_loss: 0.7019\n",
      "Epoch 17/50\n",
      "6/6 - 3s - loss: 0.8169 - dense_12_loss: 0.2987 - dense_13_loss: 0.5182 - val_loss: 0.8818 - val_dense_12_loss: 0.1791 - val_dense_13_loss: 0.7027\n",
      "Epoch 18/50\n",
      "6/6 - 3s - loss: 0.7759 - dense_12_loss: 0.2766 - dense_13_loss: 0.4993 - val_loss: 0.8740 - val_dense_12_loss: 0.1706 - val_dense_13_loss: 0.7034\n",
      "Epoch 19/50\n",
      "6/6 - 3s - loss: 0.7510 - dense_12_loss: 0.2513 - dense_13_loss: 0.4997 - val_loss: 0.8706 - val_dense_12_loss: 0.1665 - val_dense_13_loss: 0.7041\n",
      "Epoch 20/50\n",
      "6/6 - 3s - loss: 0.7379 - dense_12_loss: 0.2672 - dense_13_loss: 0.4707 - val_loss: 0.8687 - val_dense_12_loss: 0.1637 - val_dense_13_loss: 0.7051\n",
      "Epoch 21/50\n",
      "6/6 - 3s - loss: 0.7172 - dense_12_loss: 0.2458 - dense_13_loss: 0.4713 - val_loss: 0.8671 - val_dense_12_loss: 0.1606 - val_dense_13_loss: 0.7065\n",
      "Epoch 22/50\n",
      "6/6 - 3s - loss: 0.7341 - dense_12_loss: 0.2635 - dense_13_loss: 0.4706 - val_loss: 0.8660 - val_dense_12_loss: 0.1578 - val_dense_13_loss: 0.7081\n",
      "Epoch 23/50\n",
      "6/6 - 3s - loss: 0.6989 - dense_12_loss: 0.2499 - dense_13_loss: 0.4489 - val_loss: 0.8648 - val_dense_12_loss: 0.1549 - val_dense_13_loss: 0.7099\n",
      "Epoch 24/50\n",
      "6/6 - 3s - loss: 0.6917 - dense_12_loss: 0.2295 - dense_13_loss: 0.4622 - val_loss: 0.8655 - val_dense_12_loss: 0.1534 - val_dense_13_loss: 0.7121\n",
      "Epoch 25/50\n",
      "6/6 - 3s - loss: 0.6653 - dense_12_loss: 0.2352 - dense_13_loss: 0.4302 - val_loss: 0.8675 - val_dense_12_loss: 0.1533 - val_dense_13_loss: 0.7143\n",
      "Epoch 26/50\n",
      "6/6 - 3s - loss: 0.6020 - dense_12_loss: 0.2142 - dense_13_loss: 0.3878 - val_loss: 0.8675 - val_dense_12_loss: 0.1509 - val_dense_13_loss: 0.7166\n"
     ]
    }
   ],
   "source": [
    "history = model.fit([X_fed_lstm_train, X_ecb_lstm_train, X_num_train], [y_train_reg,y_train_cat], epochs=50, batch_size=128, verbose=2,\n",
    "         callbacks=[early_stop, tensorboard_callback, ], validation_split=0.2)"
   ]
  },
  {
   "cell_type": "code",
   "execution_count": 72,
   "metadata": {},
   "outputs": [
    {
     "data": {
      "text/plain": [
       "[<matplotlib.lines.Line2D at 0x2203c46e9a0>]"
      ]
     },
     "execution_count": 72,
     "metadata": {},
     "output_type": "execute_result"
    },
    {
     "data": {
      "image/png": "[encoded data removed]",
      "text/plain": [
       "<Figure size 432x288 with 1 Axes>"
      ]
     },
     "metadata": {
      "needs_background": "light"
     },
     "output_type": "display_data"
    }
   ],
   "source": [
    "plt.plot(history.history['loss'])\n",
    "plt.plot(history.history['val_loss'])"
   ]
  },
  {
   "cell_type": "code",
   "execution_count": 86,
   "metadata": {},
   "outputs": [
    {
     "name": "stderr",
     "output_type": "stream",
     "text": [
      "WARNING:absl:Found untraced functions such as lstm_cell_15_layer_call_fn, lstm_cell_15_layer_call_and_return_conditional_losses, lstm_cell_17_layer_call_fn, lstm_cell_17_layer_call_and_return_conditional_losses, lstm_cell_16_layer_call_fn while saving (showing 5 of 25). These functions will not be directly callable after loading.\n",
      "WARNING:absl:Found untraced functions such as lstm_cell_15_layer_call_fn, lstm_cell_15_layer_call_and_return_conditional_losses, lstm_cell_17_layer_call_fn, lstm_cell_17_layer_call_and_return_conditional_losses, lstm_cell_16_layer_call_fn while saving (showing 5 of 25). These functions will not be directly callable after loading.\n"
     ]
    },
    {
     "name": "stdout",
     "output_type": "stream",
     "text": [
      "INFO:tensorflow:Assets written to: mutli_inouts_outputs_model\\assets\n"
     ]
    },
    {
     "name": "stderr",
     "output_type": "stream",
     "text": [
      "INFO:tensorflow:Assets written to: mutli_inouts_outputs_model\\assets\n"
     ]
    }
   ],
   "source": [
    "model.save(\"mutli_inouts_outputs_model\")"
   ]
  },
  {
   "cell_type": "code",
   "execution_count": 74,
   "metadata": {},
   "outputs": [],
   "source": [
    "def multi_input_class_lstm_full(shape_nlp, shape_num):\n",
    "    input_nlp_fed = Input(shape=(shape_nlp[0], shape_nlp[1]))\n",
    "    input_nlp_bce = Input(shape=(shape_nlp[0], shape_nlp[1]))\n",
    "    input_num = Input(shape=(shape_num, 1))\n",
    "\n",
    "\n",
    "    w = LSTM(100, return_sequences=True)(input_nlp_fed)\n",
    "    w = Dropout(0.3)(w)\n",
    "    #w = BatchNormalization()(w)\n",
    "    w = LSTM(40, return_sequences=False)(w)\n",
    "    w = Dropout(0.3)(w)\n",
    "    w = Model(inputs=input_nlp_fed, outputs=w)\n",
    "\n",
    "\n",
    "    x = LSTM(100, return_sequences=True)(input_nlp_bce)\n",
    "    x = Dropout(0.3)(x)\n",
    "    #x = BatchNormalization()(x)\n",
    "    x = LSTM(40, return_sequences=False)(x)\n",
    "    #x = Dropout(0.3)(x)\n",
    "    x = Model(inputs=input_nlp_bce, outputs=x)\n",
    "\n",
    "    # the second branch opreates on the second input\n",
    "    y = LSTM(100, return_sequences=False)(input_num)\n",
    "    y = Dropout(0.3)(y)\n",
    "    #y = BatchNormalization()(y)\n",
    "    # y = LSTM(40, return_sequences=False)(y)\n",
    "    # y = Dropout(0.3)(y)\n",
    "    y = Model(inputs=input_num, outputs=y)\n",
    "    # combine the output of the two branches\n",
    "    combined = concatenate([w.output, x.output, y.output])\n",
    "\n",
    "    z = Dense(64, activation='relu')(combined)\n",
    "    z = Dropout(0.3)(z)\n",
    "    classi = BatchNormalization()(z)\n",
    "    classi = Dense(64)(classi)\n",
    "    classi = LeakyReLU(0.3)(classi)\n",
    "    classi = Dropout(0.5)(classi)\n",
    "    z = Dense(64, activation='relu')(z)\n",
    "    z = Dropout(0.3)(z)\n",
    "    out_reg = Dense(1, activation='linear')(z)\n",
    "    \n",
    "    out_class = Dense(1, activation = 'sigmoid')(z)\n",
    "    model = Model(inputs=[w.input, x.input, y.input], outputs=out_class)\n",
    "\n",
    "    return model"
   ]
  },
  {
   "cell_type": "code",
   "execution_count": 81,
   "metadata": {},
   "outputs": [
    {
     "name": "stdout",
     "output_type": "stream",
     "text": [
      "Epoch 1/50\n",
      "8/8 - 23s - loss: 0.2495 - val_loss: 0.2478\n",
      "Epoch 2/50\n",
      "8/8 - 3s - loss: 0.2468 - val_loss: 0.2472\n",
      "Epoch 3/50\n",
      "8/8 - 3s - loss: 0.2475 - val_loss: 0.2470\n",
      "Epoch 4/50\n",
      "8/8 - 3s - loss: 0.2455 - val_loss: 0.2464\n",
      "Epoch 5/50\n",
      "8/8 - 3s - loss: 0.2452 - val_loss: 0.2461\n",
      "Epoch 6/50\n",
      "8/8 - 3s - loss: 0.2439 - val_loss: 0.2459\n",
      "Epoch 7/50\n",
      "8/8 - 4s - loss: 0.2434 - val_loss: 0.2456\n",
      "Epoch 8/50\n",
      "8/8 - 3s - loss: 0.2426 - val_loss: 0.2453\n",
      "Epoch 9/50\n",
      "8/8 - 4s - loss: 0.2414 - val_loss: 0.2451\n",
      "Epoch 10/50\n",
      "8/8 - 3s - loss: 0.2419 - val_loss: 0.2451\n",
      "Epoch 11/50\n",
      "8/8 - 3s - loss: 0.2402 - val_loss: 0.2450\n",
      "Epoch 12/50\n",
      "8/8 - 3s - loss: 0.2398 - val_loss: 0.2448\n",
      "Epoch 13/50\n",
      "8/8 - 3s - loss: 0.2395 - val_loss: 0.2447\n",
      "Epoch 14/50\n",
      "8/8 - 3s - loss: 0.2374 - val_loss: 0.2447\n",
      "Epoch 15/50\n",
      "8/8 - 3s - loss: 0.2375 - val_loss: 0.2447\n",
      "Epoch 16/50\n",
      "8/8 - 3s - loss: 0.2378 - val_loss: 0.2447\n"
     ]
    }
   ],
   "source": [
    "model_cat=multi_input_class_lstm_full(lstm_shape, shape_num)\n",
    "early_stop = EarlyStopping(monitor='val_loss', patience=3)\n",
    "log_dir = \"logs/fit/\" + datetime.datetime.now().strftime(\"%Y%m%d-%H%M%S\")\n",
    "tensorboard_callback = TensorBoard(log_dir=log_dir, histogram_freq=1)\n",
    "optimizer = Adam(learning_rate=0.0001)\n",
    "model_cat.compile(loss=['mse'], optimizer=optimizer)\n",
    "history = model_cat.fit([X_fed_lstm_train, X_ecb_lstm_train, X_num_train], y_train_cat, epochs=50, batch_size=128, verbose=2,\n",
    "    validation_data = ([X_fed_lstm_val, X_ecb_lstm_val, X_num_val], y_val_cat), callbacks=[early_stop, tensorboard_callback, ])"
   ]
  },
  {
   "cell_type": "code",
   "execution_count": 82,
   "metadata": {},
   "outputs": [
    {
     "data": {
      "text/plain": [
       "[<matplotlib.lines.Line2D at 0x2215f6e0340>]"
      ]
     },
     "execution_count": 82,
     "metadata": {},
     "output_type": "execute_result"
    },
    {
     "data": {
      "image/png": "[encoded data removed]",
      "text/plain": [
       "<Figure size 432x288 with 1 Axes>"
      ]
     },
     "metadata": {
      "needs_background": "light"
     },
     "output_type": "display_data"
    }
   ],
   "source": [
    "plt.plot(history.history['loss'])\n",
    "plt.plot(history.history['val_loss'])"
   ]
  },
  {
   "cell_type": "code",
   "execution_count": 87,
   "metadata": {},
   "outputs": [
    {
     "name": "stderr",
     "output_type": "stream",
     "text": [
      "WARNING:absl:Found untraced functions such as lstm_cell_45_layer_call_fn, lstm_cell_45_layer_call_and_return_conditional_losses, lstm_cell_47_layer_call_fn, lstm_cell_47_layer_call_and_return_conditional_losses, lstm_cell_46_layer_call_fn while saving (showing 5 of 25). These functions will not be directly callable after loading.\n",
      "WARNING:absl:Found untraced functions such as lstm_cell_45_layer_call_fn, lstm_cell_45_layer_call_and_return_conditional_losses, lstm_cell_47_layer_call_fn, lstm_cell_47_layer_call_and_return_conditional_losses, lstm_cell_46_layer_call_fn while saving (showing 5 of 25). These functions will not be directly callable after loading.\n"
     ]
    },
    {
     "name": "stdout",
     "output_type": "stream",
     "text": [
      "INFO:tensorflow:Assets written to: multi_inputs_class_model\\assets\n"
     ]
    },
    {
     "name": "stderr",
     "output_type": "stream",
     "text": [
      "INFO:tensorflow:Assets written to: multi_inputs_class_model\\assets\n"
     ]
    }
   ],
   "source": [
    "model_cat.save(\"multi_inputs_class_model\")"
   ]
  },
  {
   "cell_type": "code",
   "execution_count": 83,
   "metadata": {},
   "outputs": [],
   "source": [
    "def multi_input_reg_lstm_full(shape_nlp, shape_num):\n",
    "    input_nlp_fed = Input(shape=(shape_nlp[0], shape_nlp[1]))\n",
    "    input_nlp_bce = Input(shape=(shape_nlp[0], shape_nlp[1]))\n",
    "    input_num = Input(shape=(shape_num, 1))\n",
    "\n",
    "\n",
    "    w = LSTM(100, return_sequences=True)(input_nlp_fed)\n",
    "    w = Dropout(0.3)(w)\n",
    "    #w = BatchNormalization()(w)\n",
    "    w = LSTM(40, return_sequences=False)(w)\n",
    "    w = Dropout(0.3)(w)\n",
    "    w = Model(inputs=input_nlp_fed, outputs=w)\n",
    "\n",
    "\n",
    "    x = LSTM(100, return_sequences=True)(input_nlp_bce)\n",
    "    x = Dropout(0.3)(x)\n",
    "    #x = BatchNormalization()(x)\n",
    "    x = LSTM(40, return_sequences=False)(x)\n",
    "    #x = Dropout(0.3)(x)\n",
    "    x = Model(inputs=input_nlp_bce, outputs=x)\n",
    "\n",
    "    # the second branch opreates on the second input\n",
    "    y = LSTM(100, return_sequences=False)(input_num)\n",
    "    y = Dropout(0.3)(y)\n",
    "    #y = BatchNormalization()(y)\n",
    "    # y = LSTM(40, return_sequences=False)(y)\n",
    "    # y = Dropout(0.3)(y)\n",
    "    y = Model(inputs=input_num, outputs=y)\n",
    "    # combine the output of the two branches\n",
    "    combined = concatenate([w.output, x.output, y.output])\n",
    "\n",
    "    z = Dense(64, activation='relu')(combined)\n",
    "    z = Dropout(0.3)(z)\n",
    "    # classi = BatchNormalization()(z)\n",
    "    # classi = Dense(64)(classi)\n",
    "    # classi = LeakyReLU(0.3)(classi)\n",
    "    # classi = Dropout(0.5)(classi)\n",
    "    z = Dense(64, activation='relu')(z)\n",
    "    z = Dropout(0.3)(z)\n",
    "    out_reg = Dense(1, activation='linear')(z)\n",
    "    \n",
    "    # out_class = Dense(1, activation = 'sigmoid')(z)\n",
    "    model = Model(inputs=[w.input, x.input, y.input], outputs=out_reg)\n",
    "\n",
    "    return model"
   ]
  },
  {
   "cell_type": "code",
   "execution_count": 84,
   "metadata": {},
   "outputs": [
    {
     "name": "stdout",
     "output_type": "stream",
     "text": [
      "Epoch 1/50\n",
      "8/8 - 19s - loss: 0.9947 - val_loss: 1.4107\n",
      "Epoch 2/50\n",
      "8/8 - 4s - loss: 0.9405 - val_loss: 1.3444\n",
      "Epoch 3/50\n",
      "8/8 - 3s - loss: 0.8848 - val_loss: 1.2822\n",
      "Epoch 4/50\n",
      "8/8 - 3s - loss: 0.8316 - val_loss: 1.2173\n",
      "Epoch 5/50\n",
      "8/8 - 3s - loss: 0.7848 - val_loss: 1.1421\n",
      "Epoch 6/50\n",
      "8/8 - 3s - loss: 0.7432 - val_loss: 1.0573\n",
      "Epoch 7/50\n",
      "8/8 - 3s - loss: 0.6736 - val_loss: 0.9643\n",
      "Epoch 8/50\n",
      "8/8 - 3s - loss: 0.6141 - val_loss: 0.8688\n",
      "Epoch 9/50\n",
      "8/8 - 8s - loss: 0.5224 - val_loss: 0.7745\n",
      "Epoch 10/50\n",
      "8/8 - 3s - loss: 0.5019 - val_loss: 0.6827\n",
      "Epoch 11/50\n",
      "8/8 - 3s - loss: 0.4174 - val_loss: 0.5981\n",
      "Epoch 12/50\n",
      "8/8 - 3s - loss: 0.3840 - val_loss: 0.5229\n",
      "Epoch 13/50\n",
      "8/8 - 3s - loss: 0.3579 - val_loss: 0.4702\n",
      "Epoch 14/50\n",
      "8/8 - 3s - loss: 0.3563 - val_loss: 0.4424\n",
      "Epoch 15/50\n",
      "8/8 - 3s - loss: 0.3322 - val_loss: 0.4360\n",
      "Epoch 16/50\n",
      "8/8 - 3s - loss: 0.2972 - val_loss: 0.4202\n",
      "Epoch 17/50\n",
      "8/8 - 3s - loss: 0.3189 - val_loss: 0.4011\n",
      "Epoch 18/50\n",
      "8/8 - 3s - loss: 0.2856 - val_loss: 0.3812\n",
      "Epoch 19/50\n",
      "8/8 - 3s - loss: 0.2869 - val_loss: 0.3686\n",
      "Epoch 20/50\n",
      "8/8 - 3s - loss: 0.2558 - val_loss: 0.3628\n",
      "Epoch 21/50\n",
      "8/8 - 3s - loss: 0.2515 - val_loss: 0.3537\n",
      "Epoch 22/50\n",
      "8/8 - 3s - loss: 0.2278 - val_loss: 0.3301\n",
      "Epoch 23/50\n",
      "8/8 - 3s - loss: 0.2484 - val_loss: 0.3265\n",
      "Epoch 24/50\n",
      "8/8 - 3s - loss: 0.2360 - val_loss: 0.3249\n",
      "Epoch 25/50\n",
      "8/8 - 3s - loss: 0.2178 - val_loss: 0.3282\n",
      "Epoch 26/50\n",
      "8/8 - 3s - loss: 0.2409 - val_loss: 0.3204\n",
      "Epoch 27/50\n",
      "8/8 - 3s - loss: 0.2176 - val_loss: 0.3068\n",
      "Epoch 28/50\n",
      "8/8 - 3s - loss: 0.2219 - val_loss: 0.2988\n",
      "Epoch 29/50\n",
      "8/8 - 3s - loss: 0.2018 - val_loss: 0.2907\n",
      "Epoch 30/50\n",
      "8/8 - 3s - loss: 0.2266 - val_loss: 0.2909\n",
      "Epoch 31/50\n",
      "8/8 - 3s - loss: 0.2178 - val_loss: 0.2861\n",
      "Epoch 32/50\n",
      "8/8 - 3s - loss: 0.2073 - val_loss: 0.2832\n",
      "Epoch 33/50\n",
      "8/8 - 3s - loss: 0.1890 - val_loss: 0.2797\n",
      "Epoch 34/50\n",
      "8/8 - 3s - loss: 0.2298 - val_loss: 0.3068\n",
      "Epoch 35/50\n",
      "8/8 - 3s - loss: 0.2172 - val_loss: 0.3057\n",
      "Epoch 36/50\n",
      "8/8 - 3s - loss: 0.2016 - val_loss: 0.2860\n"
     ]
    }
   ],
   "source": [
    "model_reg=multi_input_reg_lstm_full(lstm_shape, shape_num)\n",
    "early_stop = EarlyStopping(monitor='val_loss', patience=3)\n",
    "log_dir = \"logs/fit/\" + datetime.datetime.now().strftime(\"%Y%m%d-%H%M%S\")\n",
    "tensorboard_callback = TensorBoard(log_dir=log_dir, histogram_freq=1)\n",
    "optimizer = Adam(learning_rate=0.0001)\n",
    "model_reg.compile(loss=['mse'], optimizer=optimizer)\n",
    "history = model_reg.fit([X_fed_lstm_train, X_ecb_lstm_train, X_num_train], y_train_reg, epochs=50, batch_size=128, verbose=2,\n",
    "    validation_data = ([X_fed_lstm_val, X_ecb_lstm_val, X_num_val], y_val_reg), callbacks=[early_stop, tensorboard_callback, ])"
   ]
  },
  {
   "cell_type": "code",
   "execution_count": 85,
   "metadata": {},
   "outputs": [
    {
     "data": {
      "text/plain": [
       "[<matplotlib.lines.Line2D at 0x2215f9a3d90>]"
      ]
     },
     "execution_count": 85,
     "metadata": {},
     "output_type": "execute_result"
    },
    {
     "data": {
      "image/png": "[encoded data removed]",
      "text/plain": [
       "<Figure size 432x288 with 1 Axes>"
      ]
     },
     "metadata": {
      "needs_background": "light"
     },
     "output_type": "display_data"
    }
   ],
   "source": [
    "plt.plot(history.history['loss'])\n",
    "plt.plot(history.history['val_loss'])"
   ]
  },
  {
   "cell_type": "code",
   "execution_count": 88,
   "metadata": {},
   "outputs": [
    {
     "name": "stderr",
     "output_type": "stream",
     "text": [
      "WARNING:absl:Found untraced functions such as lstm_cell_50_layer_call_fn, lstm_cell_50_layer_call_and_return_conditional_losses, lstm_cell_52_layer_call_fn, lstm_cell_52_layer_call_and_return_conditional_losses, lstm_cell_51_layer_call_fn while saving (showing 5 of 25). These functions will not be directly callable after loading.\n",
      "WARNING:absl:Found untraced functions such as lstm_cell_50_layer_call_fn, lstm_cell_50_layer_call_and_return_conditional_losses, lstm_cell_52_layer_call_fn, lstm_cell_52_layer_call_and_return_conditional_losses, lstm_cell_51_layer_call_fn while saving (showing 5 of 25). These functions will not be directly callable after loading.\n"
     ]
    },
    {
     "name": "stdout",
     "output_type": "stream",
     "text": [
      "INFO:tensorflow:Assets written to: multi_inputs_reg_model\\assets\n"
     ]
    },
    {
     "name": "stderr",
     "output_type": "stream",
     "text": [
      "INFO:tensorflow:Assets written to: multi_inputs_reg_model\\assets\n"
     ]
    }
   ],
   "source": [
    "model_reg.save(\"multi_inputs_reg_model\")"
   ]
  },
  {
   "cell_type": "code",
   "execution_count": null,
   "metadata": {},
   "outputs": [],
   "source": [
    "mean_squared_error(y_train_reg, model.predict([X_fed_lstm_train, X_ecb_lstm_train, X_num_train]))**(1/2)"
   ]
  },
  {
   "cell_type": "code",
   "execution_count": null,
   "metadata": {},
   "outputs": [],
   "source": []
  },
  {
   "cell_type": "code",
   "execution_count": null,
   "metadata": {},
   "outputs": [],
   "source": []
  },
  {
   "cell_type": "code",
   "execution_count": null,
   "metadata": {},
   "outputs": [],
   "source": []
  },
  {
   "cell_type": "markdown",
   "metadata": {},
   "source": [
    "os.chdir('C:/Users/32mor/OneDrive/Documents/Polytechnique/NLP & Natixis/starting_kit/answer')\n",
    "\n",
    "np.savetxt(f'./{version}/pred_reg.txt', y_test_reg, fmt='%.3f')\n",
    "np.savetxt(f'./{version}/pred_classif.txt', y_test_class, fmt='%d')"
   ]
  },
  {
   "cell_type": "code",
   "execution_count": null,
   "metadata": {},
   "outputs": [],
   "source": []
  },
  {
   "cell_type": "code",
   "execution_count": null,
   "metadata": {},
   "outputs": [],
   "source": []
  },
  {
   "cell_type": "code",
   "execution_count": null,
   "metadata": {},
   "outputs": [],
   "source": []
  },
  {
   "cell_type": "code",
   "execution_count": null,
   "metadata": {},
   "outputs": [],
   "source": [
    "(y_test_class>0.5).sum()"
   ]
  },
  {
   "cell_type": "code",
   "execution_count": null,
   "metadata": {},
   "outputs": [],
   "source": [
    "os.chdir('..')\n",
    "print('zipping it...')\n",
    "shutil.make_archive('answer', 'zip', './answer/')\n",
    "shutil.rmtree('./answer/')\n",
    "os.chdir('../..')\n",
    "print('done!')"
   ]
  },
  {
   "cell_type": "code",
   "execution_count": null,
   "metadata": {},
   "outputs": [],
   "source": [
    "os.chdir('C:/Users/32mor/OneDrive/Documents/Polytechnique/NLP & Natixis/starting_kit/answer')"
   ]
  },
  {
   "cell_type": "code",
   "execution_count": null,
   "metadata": {},
   "outputs": [],
   "source": []
  }
 ],
 "metadata": {
  "interpreter": {
   "hash": "cef52191e58c18720989589d5b4ea8cc9868f5ede1a0d5b620ab4c0f06813bfa"
  },
  "kernelspec": {
   "display_name": "Python 3.8.0 ('tf_test')",
   "language": "python",
   "name": "python3"
  },
  "language_info": {
   "codemirror_mode": {
    "name": "ipython",
    "version": 3
   },
   "file_extension": ".py",
   "mimetype": "text/x-python",
   "name": "python",
   "nbconvert_exporter": "python",
   "pygments_lexer": "ipython3",
   "version": "3.8.0"
  },
  "orig_nbformat": 4
 },
 "nbformat": 4,
 "nbformat_minor": 2
}
